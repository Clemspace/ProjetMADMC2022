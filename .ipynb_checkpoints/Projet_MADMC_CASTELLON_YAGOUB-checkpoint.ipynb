{
 "cells": [
  {
   "cell_type": "markdown",
   "metadata": {},
   "source": [
    "# Projet MADMC"
   ]
  },
  {
   "cell_type": "code",
   "execution_count": 1,
   "metadata": {},
   "outputs": [],
   "source": [
    "import math\n",
    "import numpy as np\n",
    "import random\n",
    "import matplotlib.pyplot as plt\n",
    "import NDTree"
   ]
  },
  {
   "cell_type": "code",
   "execution_count": 2,
   "metadata": {},
   "outputs": [],
   "source": [
    "def readInstance(path):\n",
    "\n",
    "    with open(path, 'r') as f:\n",
    "        allLines = f.readlines()\n",
    "\n",
    "    n = int(allLines[2].split(\" \")[1])\n",
    "\n",
    "    objects = np.empty((n, 3))\n",
    "    for i, line in enumerate(allLines[4:4+n]):\n",
    "        objects[i] = list( map(int, line.rstrip().lstrip(\"i \").split(\"\\t\")) )\n",
    "\n",
    "    W = int(allLines[-2].split(\" \")[1])\n",
    "\n",
    "    return objects, W"
   ]
  },
  {
   "cell_type": "code",
   "execution_count": 3,
   "metadata": {},
   "outputs": [],
   "source": [
    "def readNotDominatedPoints(path):\n",
    "\n",
    "    with open(path, 'r') as f:\n",
    "        allLines = f.readlines()\n",
    "\n",
    "    allPoints = []\n",
    "    for line in allLines:\n",
    "        allPoints.append( list(map(int, line.rstrip().split(\"\\t\"))) )\n",
    "\n",
    "    return np.array(allPoints)"
   ]
  },
  {
   "cell_type": "code",
   "execution_count": 4,
   "metadata": {},
   "outputs": [],
   "source": [
    "def proportionNotDominated(nd_points, potential_nd_points):\n",
    "    nd_points_set = set(list(map(tuple, nd_points)))\n",
    "    potential_nd_points_set = set(list(map(tuple, potential_nd_points)))\n",
    "    \n",
    "    return len(nd_points_set & potential_nd_points_set)/len(nd_points)"
   ]
  },
  {
   "cell_type": "code",
   "execution_count": 5,
   "metadata": {},
   "outputs": [],
   "source": [
    "def averageDistance(nd_points, potential_nd_points):\n",
    "    nadir_pt = np.array((nd_points[:, 0].min(), nd_points[:, 1].min()))\n",
    "    print(nadir_pt)\n",
    "    ideal_pt = np.array((nd_points[:, 0].max(), nd_points[:, 1].max()))\n",
    "    p1 = 1/(ideal_pt[0]-nadir_pt[0])\n",
    "    p2 = 1/(ideal_pt[1]-nadir_pt[1])\n",
    "    \n",
    "    distances = []\n",
    "    \n",
    "    for i, nd_point in enumerate(nd_points):\n",
    "        euclidian_dist = math.inf\n",
    "        for potential_nd_point in potential_nd_points:\n",
    "            euclidian_dist_tmp =  math.sqrt(p1*(potential_nd_point[0]-nd_point[0])**2 + p2*(potential_nd_point[1]-nd_point[1])**2)\n",
    "            \n",
    "            if(euclidian_dist_tmp < euclidian_dist):\n",
    "                euclidian_dist = euclidian_dist_tmp\n",
    "    \n",
    "        distances.append(euclidian_dist)\n",
    "    \n",
    "    distances = np.array(distances)\n",
    "    \n",
    "    return (1/len(nd_points))*distances.sum()\n"
   ]
  },
  {
   "cell_type": "code",
   "execution_count": 6,
   "metadata": {},
   "outputs": [],
   "source": [
    "def solutionTotalWeight(solution, objects):\n",
    "    sum = 0\n",
    "    for i, sol in enumerate(solution):\n",
    "        if(sol == 1):\n",
    "            sum += objects[:,0][i]\n",
    "    return sum"
   ]
  },
  {
   "cell_type": "code",
   "execution_count": 7,
   "metadata": {},
   "outputs": [],
   "source": [
    "def generatePop(objects, max_weight):\n",
    "    solution = np.random.randint(2, size=len(objects))\n",
    "    sumWeights = 0\n",
    "    freeObjectsIndexes = []\n",
    "    \n",
    "    for i in range(0, len(solution)):\n",
    "        if(solution[i] == 1):\n",
    "            sumWeights += objects[:,0][i]\n",
    "        else:\n",
    "            freeObjectsIndexes.append(i)\n",
    "\n",
    "        #make sure that the solution respects max weight\n",
    "        if(sumWeights > max_weight):\n",
    "            solution[i] = 0\n",
    "            sumWeights -= objects[:,0][i]\n",
    "            freeObjectsIndexes.append(i)\n",
    "    \n",
    "    #add random objects to fill the bag\n",
    "    while(sumWeights < max_weight and len(freeObjectsIndexes) > 0):\n",
    "        i = random.randint(0, len(freeObjectsIndexes)-1)\n",
    "        if(sumWeights + objects[:,0][freeObjectsIndexes[i]] < max_weight):\n",
    "            solution[freeObjectsIndexes[i]] = 1\n",
    "            sumWeights += objects[:,0][freeObjectsIndexes[i]]\n",
    "            #print(\"add \", objects[:,0][freeObjectsIndexes[i]], sumWeights)\n",
    "        del freeObjectsIndexes[i]\n",
    "            \n",
    "    #print(\"current weight : \", sumWeights, \" max weight : \", max_weight)\n",
    "    \n",
    "    \n",
    "    return solution"
   ]
  },
  {
   "cell_type": "code",
   "execution_count": 8,
   "metadata": {},
   "outputs": [],
   "source": [
    "def neighborhood(solution, objects, max_weight):\n",
    "    solutionSum = solution.sum()\n",
    "    neighborhoodPop = []\n",
    "    \n",
    "    #if there is at least one object selected and still some other(s) not selected\n",
    "    if(solutionSum >= 1 and solutionSum < len(objects)):\n",
    "        totalWeight = solutionTotalWeight(solution, objects)\n",
    "        newTotalWeight = totalWeight\n",
    "        neighbor_sol = solution.copy()\n",
    "        permutationDone = False\n",
    "        \n",
    "        #sort objects in two lists (of indexes) wether they are in backpack or not\n",
    "        availableObjects = []\n",
    "        takenObjects = []\n",
    "        for i in range(0, len(neighbor_sol)-1):\n",
    "            if(neighbor_sol[i] == 0):\n",
    "                availableObjects.append(i)\n",
    "            else:\n",
    "                takenObjects.append(i)\n",
    "                \n",
    "        for i in range(len(takenObjects)):\n",
    "            takenObjectIndex = takenObjects[i]\n",
    "\n",
    "            for j in range(len(availableObjects)):\n",
    "                availableObjectIndex = availableObjects[j]\n",
    "\n",
    "                newTotalWeight = totalWeight - objects[:,0][takenObjectIndex] + objects[:,0][availableObjectIndex]\n",
    "\n",
    "                #permutation only if valid solution\n",
    "                if(newTotalWeight > max_weight):\n",
    "                    break\n",
    "                else:\n",
    "                    neighbor_sol = solution.copy()\n",
    "                    totalWeight = newTotalWeight\n",
    "                    permutationDone = True\n",
    "                    neighbor_sol[takenObjectIndex] = 0\n",
    "                    neighbor_sol[availableObjectIndex] = 1\n",
    "                    \n",
    "                    availableObjectsTmp = availableObjects.copy()\n",
    "                    availableObjectsTmp.append(availableObjectIndex)\n",
    "                    del availableObjectsTmp[j] #no need to del for takenObjects (list not used after)\n",
    "                    #print(\"replaced index\", takenObjectIndex, \"with\", availableObjectIndex)\n",
    "\n",
    "\n",
    "                    #new spaces filled with objects if possible\n",
    "                    new_object_index = random.randint(0, len(availableObjectsTmp)-1)\n",
    "                    availableObjectIndex = availableObjectsTmp[new_object_index]\n",
    "\n",
    "                    while(totalWeight < max_weight and len(availableObjectsTmp) > 0):\n",
    "                        if(totalWeight+objects[:,0][availableObjectIndex] <= max_weight):\n",
    "                            neighbor_sol[availableObjectIndex] = 1\n",
    "                            totalWeight += objects[:,0][availableObjectIndex]\n",
    "\n",
    "                        del availableObjectsTmp[new_object_index]\n",
    "\n",
    "                        if(len(availableObjectsTmp) > 0): #verification for the last loop\n",
    "                            new_object_index = random.randint(0, len(availableObjectsTmp)-1)\n",
    "                            availableObjectIndex = availableObjectsTmp[new_object_index]\n",
    "                    \n",
    "                    neighborhoodPop.append(neighbor_sol)\n",
    "                    \n",
    "        #print(\"aa\",neighborhoodPop,\"bb\", neighborhoodPop[0])\n",
    "        return neighborhoodPop"
   ]
  },
  {
   "cell_type": "code",
   "execution_count": 9,
   "metadata": {},
   "outputs": [],
   "source": [
    "def evaluateSolution(solution, earnings):\n",
    "    earnings_values = [0]*(earnings[0].size)\n",
    "    \n",
    "    for i in range(earnings[0].size): #for each objective\n",
    "        for j in range(earnings[:, i].size-1): #the valuation for each object\n",
    "            earnings_values[i] += solution[j]*earnings[:, i][j] #solution[j] = 1 or 0\n",
    "    return earnings_values"
   ]
  },
  {
   "cell_type": "code",
   "execution_count": 10,
   "metadata": {},
   "outputs": [],
   "source": [
    "def evaluate_solution(solution, objects, capacity, with_capacity=False):\n",
    "    evaluation = np.matmul(solution.T, objects)\n",
    "\n",
    "    # retourne solution + sa validité\n",
    "    if with_capacity:\n",
    "        return evaluation[0] <= capacity, evaluation\n",
    "    else:\n",
    "        return evaluation[0] <= capacity, evaluation[1:]\n",
    "\n"
   ]
  },
  {
   "cell_type": "code",
   "execution_count": 11,
   "metadata": {},
   "outputs": [],
   "source": [
    "def isDominated(sol1, sol2, earnings):\n",
    "    earnings_sol1 = evaluateSolution(sol1, earnings)\n",
    "    earnings_sol2 = evaluateSolution(sol2, earnings)\n",
    "    if earnings_sol1[0] < earnings_sol2[0]:\n",
    "        return earnings_sol1[1] <= earnings_sol2[1]\n",
    "    return False"
   ]
  },
  {
   "cell_type": "code",
   "execution_count": 12,
   "metadata": {},
   "outputs": [],
   "source": [
    "def update(solutionsSet, solutionToReview, objects, earnings):\n",
    "\n",
    "    update = True\n",
    "    for solution in reversed(solutionsSet):\n",
    "        if(isDominated(solutionToReview, solution, earnings)):\n",
    "            update = False\n",
    "            break\n",
    "        #if(isDominated(solution, solutionToReview, earnings)):#si la nouvelle solution domine un point\n",
    "            #solutionsSet.remove(solution)\n",
    "        #print(solution)\n",
    "\n",
    "    #remove the dominated points by the new solution\n",
    "    if update:\n",
    "        solutionsSet.append(np.array(solutionToReview))\n",
    "    return update"
   ]
  },
  {
   "cell_type": "code",
   "execution_count": 13,
   "metadata": {},
   "outputs": [],
   "source": [
    "def arraytoString(array):\n",
    "    return ''.join(array)\n"
   ]
  },
  {
   "cell_type": "code",
   "execution_count": 14,
   "metadata": {},
   "outputs": [],
   "source": [
    "def plot_objective_space(points, points2):\n",
    "    x, y = [i[0] for i in points], [j[1] for j in points]\n",
    "    x2, y2 = [int(i[0]) for i in points2], [int(j[1]) for j in points2]\n",
    "    plt.scatter(x, y, c='red')\n",
    "    plt.scatter(x2, y2, c='blue')\n",
    "    plt.show()"
   ]
  },
  {
   "cell_type": "code",
   "execution_count": 72,
   "metadata": {},
   "outputs": [],
   "source": [
    "def localParetoSearch1(objects, capacity, non_dominated_points=[]):\n",
    "    earnings = objects[:, 1:]\n",
    "\n",
    "    #objects = objects[objects[:, 0].argsort()]\n",
    "\n",
    "    #random_sol, solution_alea = generatePop(objects, capacity)\n",
    "    random_sol = generatePop(objects, capacity)\n",
    "\n",
    "    #valid, evalP = evaluateSolution(solution_alea, objects, capacity)\n",
    "    evalP = evaluateSolution(random_sol, objects, capacity)\n",
    "    \n",
    "    # initialisation d'un ens. de sol. efficaces  et d'une population\n",
    "    population = []\n",
    "    efficient_solutions = []\n",
    "    efficient_solutions.append(random_sol)\n",
    "    population= np.array(random_sol)\n",
    "    k = 0\n",
    "    ez = [evalP]\n",
    "    # initialisation d'une pop. auxiliaire\n",
    "    auxiliar_population = []\n",
    "    evalBase = []\n",
    "    while(len(population) > 0):\n",
    "        k += 1\n",
    "        j = 0\n",
    "\n",
    "        #print(population)\n",
    "        # génération de tous les voisins de chaque solution appartenant à population\n",
    "        nghbhood, evals = [], []\n",
    "        for p in population:\n",
    "            print(str((j)/len(population)*100) + '%')\n",
    "\n",
    "            j += 1\n",
    "\n",
    "            valid, evalBase = evaluate_solution(p, objects, capacity)\n",
    "            #evalBase = evaluateSolution(p, earnings)\n",
    "\n",
    "\n",
    "            #voisinage, evals = voisinage1_1(p, objects, capacity)\n",
    "            nghbhood = neighborhood(p, objects, capacity)\n",
    "            \n",
    "            #while not voisinage:\n",
    "            #voisinage, evals = voisinage1_1(p, objects, capacity)\n",
    "\n",
    "            #for voisin, eval in zip(voisinage, evals):\n",
    "            for neighbor in nghbhood:\n",
    "                #print('nouvelleeval')\n",
    "                #print(eval)\n",
    "                # si p_prime n'est pas dominé par p:\n",
    "\n",
    "                #if not dominated(eval, evalBase):\n",
    "                if not Dominates(neighbor, p):\n",
    "\n",
    "                    if update(auxiliar_population, neighbor, objects, earnings):\n",
    "                        update(efficient_solutions, neighbor, objects, earnings)\n",
    "                        \n",
    "            nghbhood, evals = [], []\n",
    "            \n",
    "            \n",
    "        if len(efficient_solutions) > 10:\n",
    "            ez = [evaluateSolution(r, earnings) for r in efficient_solutions]\n",
    "            print(ez)\n",
    "            plot_objective_space(ez, non_dominated_points)\n",
    "\n",
    "        population = auxiliar_population\n",
    "        auxiliar_population = []\n",
    "        #print('efficient solutions=Evaluations')\n",
    "        print('taille du front efficace')\n",
    "        print(np.array(efficient_solutions).shape)\n",
    "\n",
    "    return efficient_solutions\n"
   ]
  },
  {
   "cell_type": "code",
   "execution_count": 141,
   "metadata": {},
   "outputs": [],
   "source": [
    "def localParetoSearchNew(objects, capacity, non_dominated_points = []):\n",
    "    earnings = objects[:, 1:]\n",
    "    weights = objects[:, 0]\n",
    "    nbDims = 2\n",
    "    #NDTree.NDTree(nbDims)\n",
    "    #objects = objects[objects[:, 0].argsort()]\n",
    "\n",
    "    #random_sol, solution_alea = generatePop(objects, capacity)\n",
    "    random_sol = generatePop(objects, capacity)\n",
    "    \n",
    "    #valid, evalP = evaluateSolution(solution_alea, objects, capacity)\n",
    "    valid,evalP = evaluate_solution(random_sol,objects, capacity)\n",
    "    \n",
    "    # initialisation d'un ens. de sol. efficaces  et d'une population\n",
    "    population = []\n",
    "    initial_solution = {tuple(random_sol): np.array(evalP)}\n",
    "    efficient_solutions = NDTree.NDTree(nbDims)\n",
    "    efficient_solutions.Update(initial_solution)\n",
    "    population.append(random_sol)\n",
    "    k = 0\n",
    "    ez = []\n",
    "    ez.append(evalP)\n",
    "    # initialisation d'une pop. auxiliaire\n",
    "    auxiliar_population = NDTree.NDTree(nbDims)\n",
    "    auxiliar_population = []\n",
    "    evalBase = []\n",
    "    while(len(population) > 0):\n",
    "        k += 1\n",
    "        j = 0\n",
    "\n",
    "        #print(population)\n",
    "        # génération de tous les voisins de chaque solution appartenant à population\n",
    "        nghbhood, evals = [], []\n",
    "        for p in population:\n",
    "            #print(str((j)/len(population)*100) + '%')\n",
    "\n",
    "            j += 1\n",
    "\n",
    "            #valid, evalBase = evaluate_solution(p, objects, capacity)\n",
    "            valid2 ,evalBase = evaluate_solution(p,objects, capacity)\n",
    "\n",
    "\n",
    "            #voisinage, evals = voisinage1_1(p, objects, capacity)\n",
    "            nghbhood = neighborhood(p, objects, capacity)\n",
    "            \n",
    "            #while not voisinage:\n",
    "            #voisinage, evals = voisinage1_1(p, objects, capacity)\n",
    "\n",
    "            #for voisin, eval in zip(voisinage, evals):\n",
    "            for neighbor in nghbhood:\n",
    "                \n",
    "                #print('nouvelleeval')\n",
    "                #print(eval)\n",
    "                # si p_prime n'est pas dominé par p:\n",
    "                valid3, evalNeighbor = evaluate_solution(neighbor,objects, capacity)\n",
    "                #if not dominated(eval, evalBase):\n",
    "                if not Dominates(evalBase, evalNeighbor) and valid3 and valid2:\n",
    "                    candidate = {tuple(neighbor): np.array(evalNeighbor)}\n",
    "\n",
    "                    if update(auxiliar_population, neighbor, objects, earnings):\n",
    "                        efficient_solutions.Update(candidate)\n",
    "                        \n",
    "            nghbhood, evals = [], []\n",
    "            \n",
    "        eff = []    \n",
    "        if efficient_solutions.getSize() > 1:\n",
    "            eff = efficient_solutions.getPoints().values()\n",
    "            #ez = [evaluate_solution(r, objects,capacity)[1] for r in eff]\n",
    "            \n",
    "            #print(ez)\n",
    "\n",
    "\n",
    "            plot_objective_space(eff, non_dominated_points)\n",
    "        population = auxiliar_population\n",
    "        \n",
    "        auxiliar_population = []\n",
    "\n",
    "        #print('efficient solutions=Evaluations')\n",
    "        print('taille du front efficace')\n",
    "        print(len(eff))\n",
    "\n",
    "    return efficient_solutions\n"
   ]
  },
  {
   "cell_type": "code",
   "execution_count": 60,
   "metadata": {},
   "outputs": [
    {
     "name": "stdout",
     "output_type": "stream",
     "text": [
      "[]\n"
     ]
    }
   ],
   "source": [
    "a = []\n",
    "b = np.array([4,5,6])\n",
    "a.append(b)\n",
    "a.remove(b)\n",
    "print(a)"
   ]
  },
  {
   "cell_type": "markdown",
   "metadata": {},
   "source": [
    "**-------------TEST METHODES-------------**"
   ]
  },
  {
   "cell_type": "code",
   "execution_count": 18,
   "metadata": {
    "scrolled": true
   },
   "outputs": [
    {
     "name": "stdout",
     "output_type": "stream",
     "text": [
      "[[394. 783. 840.]\n",
      " [911. 198. 798.]\n",
      " [768. 278. 335.]\n",
      " [477. 629. 554.]\n",
      " [513. 952. 365.]\n",
      " [636. 717. 916.]\n",
      " [607.  17. 142.]\n",
      " [138. 804. 243.]\n",
      " [401. 130. 157.]\n",
      " [998. 219. 109.]\n",
      " [839. 613. 513.]\n",
      " [637. 524. 296.]\n",
      " [972. 293. 494.]\n",
      " [527. 770. 771.]\n",
      " [891. 284. 400.]\n",
      " [807. 919. 353.]\n",
      " [949. 526.  70.]\n",
      " [193. 663.  86.]\n",
      " [349.  65. 890.]\n",
      " [458.  64.  21.]\n",
      " [970. 902. 239.]\n",
      " [267. 540. 851.]\n",
      " [760. 513. 375.]\n",
      " [532.  40. 668.]\n",
      " [931. 930. 438.]\n",
      " [285. 738. 721.]\n",
      " [354. 688. 640.]\n",
      " [440. 880. 166.]\n",
      " [331. 229. 829.]\n",
      " [351. 686. 893.]\n",
      " [589. 657. 956.]\n",
      " [440. 924. 858.]\n",
      " [814. 684. 399.]\n",
      " [483. 216. 911.]\n",
      " [920. 148. 950.]\n",
      " [641. 432. 881.]\n",
      " [281. 786. 619.]\n",
      " [447. 226. 308.]\n",
      " [276. 556. 188.]\n",
      " [170. 906. 417.]\n",
      " [126. 495. 104.]\n",
      " [984. 935. 760.]\n",
      " [383. 750. 684.]\n",
      " [294. 233. 369.]\n",
      " [245. 153. 584.]\n",
      " [126. 793. 732.]\n",
      " [745.  75. 164.]\n",
      " [ 53. 522. 950.]\n",
      " [240. 798. 177.]\n",
      " [656. 967. 732.]\n",
      " [759.  94. 639.]\n",
      " [520.  79. 135.]\n",
      " [205. 461.  70.]\n",
      " [573. 755. 819.]\n",
      " [158. 999.  52.]\n",
      " [890. 126. 205.]\n",
      " [ 55. 870. 997.]\n",
      " [  5. 923.  73.]\n",
      " [181. 163. 594.]\n",
      " [913. 819. 392.]\n",
      " [552. 579. 359.]\n",
      " [687. 100. 453.]\n",
      " [757. 304. 531.]\n",
      " [577. 877. 992.]\n",
      " [629.  36. 748.]\n",
      " [833. 925. 748.]\n",
      " [831. 979. 873.]\n",
      " [903. 983. 744.]\n",
      " [497. 164. 667.]\n",
      " [889.  77. 830.]\n",
      " [248. 629. 650.]\n",
      " [700. 317. 229.]\n",
      " [232.  75. 329.]\n",
      " [224. 651. 633.]\n",
      " [971. 280. 511.]\n",
      " [719. 114. 546.]\n",
      " [592. 944. 472.]\n",
      " [337. 847. 451.]\n",
      " [  4. 345. 435.]\n",
      " [833. 234. 598.]\n",
      " [483. 482. 675.]\n",
      " [712. 183. 305.]\n",
      " [ 41. 414. 622.]\n",
      " [674. 638. 696.]\n",
      " [185. 609. 347.]\n",
      " [730. 329. 627.]\n",
      " [203. 920. 740.]\n",
      " [653. 258. 685.]\n",
      " [ 88. 261. 532.]\n",
      " [686.  94. 877.]\n",
      " [362. 577. 112.]\n",
      " [666. 289. 593.]\n",
      " [289. 330. 775.]\n",
      " [984.   4. 190.]\n",
      " [332. 189. 827.]\n",
      " [958. 919. 437.]\n",
      " [699. 122. 765.]\n",
      " [384. 774. 686.]\n",
      " [916. 862. 943.]\n",
      " [793. 548. 204.]] \n",
      " max weight : 26856\n"
     ]
    }
   ],
   "source": [
    "(objects, weight) = readInstance(\"100_items/2KP100-TA-0.dat\")\n",
    "nd_points = readNotDominatedPoints(\"100_items/2KP100-TA-0.eff\")\n",
    "print(objects, \"\\n max weight :\", weight)"
   ]
  },
  {
   "cell_type": "code",
   "execution_count": 19,
   "metadata": {
    "scrolled": true
   },
   "outputs": [
    {
     "name": "stdout",
     "output_type": "stream",
     "text": [
      "99\n",
      "[[783. 840.]\n",
      " [198. 798.]\n",
      " [278. 335.]\n",
      " [629. 554.]\n",
      " [952. 365.]\n",
      " [717. 916.]\n",
      " [ 17. 142.]\n",
      " [804. 243.]\n",
      " [130. 157.]\n",
      " [219. 109.]\n",
      " [613. 513.]\n",
      " [524. 296.]\n",
      " [293. 494.]\n",
      " [770. 771.]\n",
      " [284. 400.]\n",
      " [919. 353.]\n",
      " [526.  70.]\n",
      " [663.  86.]\n",
      " [ 65. 890.]\n",
      " [ 64.  21.]\n",
      " [902. 239.]\n",
      " [540. 851.]\n",
      " [513. 375.]\n",
      " [ 40. 668.]\n",
      " [930. 438.]\n",
      " [738. 721.]\n",
      " [688. 640.]\n",
      " [880. 166.]\n",
      " [229. 829.]\n",
      " [686. 893.]\n",
      " [657. 956.]\n",
      " [924. 858.]\n",
      " [684. 399.]\n",
      " [216. 911.]\n",
      " [148. 950.]\n",
      " [432. 881.]\n",
      " [786. 619.]\n",
      " [226. 308.]\n",
      " [556. 188.]\n",
      " [906. 417.]\n",
      " [495. 104.]\n",
      " [935. 760.]\n",
      " [750. 684.]\n",
      " [233. 369.]\n",
      " [153. 584.]\n",
      " [793. 732.]\n",
      " [ 75. 164.]\n",
      " [522. 950.]\n",
      " [798. 177.]\n",
      " [967. 732.]\n",
      " [ 94. 639.]\n",
      " [ 79. 135.]\n",
      " [461.  70.]\n",
      " [755. 819.]\n",
      " [999.  52.]\n",
      " [126. 205.]\n",
      " [870. 997.]\n",
      " [923.  73.]\n",
      " [163. 594.]\n",
      " [819. 392.]\n",
      " [579. 359.]\n",
      " [100. 453.]\n",
      " [304. 531.]\n",
      " [877. 992.]\n",
      " [ 36. 748.]\n",
      " [925. 748.]\n",
      " [979. 873.]\n",
      " [983. 744.]\n",
      " [164. 667.]\n",
      " [ 77. 830.]\n",
      " [629. 650.]\n",
      " [317. 229.]\n",
      " [ 75. 329.]\n",
      " [651. 633.]\n",
      " [280. 511.]\n",
      " [114. 546.]\n",
      " [944. 472.]\n",
      " [847. 451.]\n",
      " [345. 435.]\n",
      " [234. 598.]\n",
      " [482. 675.]\n",
      " [183. 305.]\n",
      " [414. 622.]\n",
      " [638. 696.]\n",
      " [609. 347.]\n",
      " [329. 627.]\n",
      " [920. 740.]\n",
      " [258. 685.]\n",
      " [261. 532.]\n",
      " [ 94. 877.]\n",
      " [577. 112.]\n",
      " [289. 593.]\n",
      " [330. 775.]\n",
      " [  4. 190.]\n",
      " [189. 827.]\n",
      " [919. 437.]\n",
      " [122. 765.]\n",
      " [774. 686.]\n",
      " [862. 943.]\n",
      " [548. 204.]]\n"
     ]
    }
   ],
   "source": [
    "#earnings for each objective\n",
    "earnings = objects[:,1:]\n",
    "print(earnings[:, 1].size-1)\n",
    "print(earnings)"
   ]
  },
  {
   "cell_type": "code",
   "execution_count": 20,
   "metadata": {},
   "outputs": [],
   "source": [
    "#print(nd_points)\n",
    "#nd_points = np.hsplit(nd_points, 2)\n",
    "#print(nd_points)\n",
    "#plot.plot(nd_points[:,0], nd_points[:,1])"
   ]
  },
  {
   "cell_type": "code",
   "execution_count": 21,
   "metadata": {},
   "outputs": [
    {
     "name": "stdout",
     "output_type": "stream",
     "text": [
      "[1 1 0 0 0 0 1 1 0 1 1 0 1 1 1 1 0 1 1 1 0 0 0 0 0 1 1 1 1 0 0 0 0 0 1 0 0\n",
      " 0 1 1 0 1 1 1 1 0 0 1 0 1 1 1 1 0 1 0 1 1 0 1 0 1 1 1 0 0 0 1 0 0 1 0 0 1\n",
      " 1 0 1 0 1 1 1 0 1 0 0 0 1 1 0 0 0 0 0 1 1 1 0 1 1 0] 26840.0 345\n"
     ]
    }
   ],
   "source": [
    "generatedPop = generatePop(objects, weight)\n",
    "print(generatedPop, solutionTotalWeight(generatedPop, objects), len(neighborhood(generatedPop, objects, weight)))"
   ]
  },
  {
   "cell_type": "code",
   "execution_count": 22,
   "metadata": {
    "scrolled": true
   },
   "outputs": [
    {
     "data": {
      "text/plain": [
       "[27811.0, 27832.0]"
      ]
     },
     "execution_count": 22,
     "metadata": {},
     "output_type": "execute_result"
    }
   ],
   "source": [
    "evaluateSolution(generatedPop, earnings)"
   ]
  },
  {
   "cell_type": "code",
   "execution_count": null,
   "metadata": {},
   "outputs": [],
   "source": []
  },
  {
   "cell_type": "code",
   "execution_count": null,
   "metadata": {
    "scrolled": true
   },
   "outputs": [],
   "source": []
  },
  {
   "cell_type": "code",
   "execution_count": 143,
   "metadata": {},
   "outputs": [
    {
     "data": {
      "text/plain": [
       "<module 'NDTree' from '/home/clemspace/Bureau/M2-21-22/MADMC/ProjetMADMC2022/NDTree.py'>"
      ]
     },
     "execution_count": 143,
     "metadata": {},
     "output_type": "execute_result"
    }
   ],
   "source": [
    "\n",
    "def Dominates(point, candidate):\n",
    "    return sum([point[x] >= candidate[x] for x in range(len(point))]) == len(point) \n",
    "\n",
    "import importlib\n",
    "import NDTree #import the module here, so that it can be reloaded.\n",
    "importlib.reload(NDTree)"
   ]
  },
  {
   "cell_type": "code",
   "execution_count": null,
   "metadata": {},
   "outputs": [
    {
     "data": {
      "image/png": "[encoded data removed]",
      "text/plain": [
       "<Figure size 432x288 with 1 Axes>"
      ]
     },
     "metadata": {
      "needs_background": "light"
     },
     "output_type": "display_data"
    },
    {
     "name": "stdout",
     "output_type": "stream",
     "text": [
      "taille du front efficace\n",
      "17\n"
     ]
    },
    {
     "data": {
      "image/png": "[encoded data removed]",
      "text/plain": [
       "<Figure size 432x288 with 1 Axes>"
      ]
     },
     "metadata": {
      "needs_background": "light"
     },
     "output_type": "display_data"
    },
    {
     "name": "stdout",
     "output_type": "stream",
     "text": [
      "taille du front efficace\n",
      "53\n"
     ]
    },
    {
     "data": {
      "image/png": "[encoded data removed]",
      "text/plain": [
       "<Figure size 432x288 with 1 Axes>"
      ]
     },
     "metadata": {
      "needs_background": "light"
     },
     "output_type": "display_data"
    },
    {
     "name": "stdout",
     "output_type": "stream",
     "text": [
      "taille du front efficace\n",
      "138\n"
     ]
    },
    {
     "data": {
      "image/png": "[encoded data removed]",
      "text/plain": [
       "<Figure size 432x288 with 1 Axes>"
      ]
     },
     "metadata": {
      "needs_background": "light"
     },
     "output_type": "display_data"
    },
    {
     "name": "stdout",
     "output_type": "stream",
     "text": [
      "taille du front efficace\n",
      "221\n"
     ]
    }
   ],
   "source": [
    "localParetoSearchNew(objects, weight, nd_points)"
   ]
  },
  {
   "cell_type": "code",
   "execution_count": 147,
   "metadata": {},
   "outputs": [],
   "source": [
    "def localParetoSearchNew2(objects, capacity, non_dominated_points = []):\n",
    "    earnings = objects[:, 1:]\n",
    "    weights = objects[:, 0]\n",
    "    nbDims = 2\n",
    "    #NDTree.NDTree(nbDims)\n",
    "    #objects = objects[objects[:, 0].argsort()]\n",
    "\n",
    "    #random_sol, solution_alea = generatePop(objects, capacity)\n",
    "    random_sol = generatePop(objects, capacity)\n",
    "    \n",
    "    #valid, evalP = evaluateSolution(solution_alea, objects, capacity)\n",
    "    valid,evalP = evaluate_solution(random_sol,objects, capacity)\n",
    "    \n",
    "    # initialisation d'un ens. de sol. efficaces  et d'une population\n",
    "    population = []\n",
    "    initial_solution = {tuple(random_sol): np.array(evalP)}\n",
    "    efficient_solutions = NDTree.NDTree(nbDims)\n",
    "    efficient_solutions.Update(initial_solution)\n",
    "    population.append(random_sol)\n",
    "    k = 0\n",
    "    ez = []\n",
    "    ez.append(evalP)\n",
    "    # initialisation d'une pop. auxiliaire\n",
    "    auxiliar_population = NDTree.NDTree(nbDims)\n",
    "    evalBase = []\n",
    "    while(len(population) > 0):\n",
    "        k += 1\n",
    "        j = 0\n",
    "\n",
    "        #print(population)\n",
    "        # génération de tous les voisins de chaque solution appartenant à population\n",
    "        nghbhood, evals = [], []\n",
    "        for p in population:\n",
    "            #print(str((j)/len(population)*100) + '%')\n",
    "\n",
    "            j += 1\n",
    "\n",
    "            #valid, evalBase = evaluate_solution(p, objects, capacity)\n",
    "            valid2 ,evalBase = evaluate_solution(p,objects, capacity)\n",
    "\n",
    "\n",
    "            #voisinage, evals = voisinage1_1(p, objects, capacity)\n",
    "            nghbhood = neighborhood(p, objects, capacity)\n",
    "            \n",
    "            #while not voisinage:\n",
    "            #voisinage, evals = voisinage1_1(p, objects, capacity)\n",
    "\n",
    "            #for voisin, eval in zip(voisinage, evals):\n",
    "            for neighbor in nghbhood:\n",
    "                \n",
    "                #print('nouvelleeval')\n",
    "                #print(eval)\n",
    "                # si p_prime n'est pas dominé par p:\n",
    "                valid3, evalNeighbor = evaluate_solution(neighbor,objects, capacity)\n",
    "                #if not dominated(eval, evalBase):\n",
    "                if not Dominates(evalBase, evalNeighbor) and valid3 and valid2:\n",
    "                    candidate = {tuple(neighbor): np.array(evalNeighbor)}\n",
    "    \n",
    "                    if auxiliar_population.Update(candidate):\n",
    "                        efficient_solutions.Update(candidate)\n",
    "                        \n",
    "            nghbhood, evals = [], []\n",
    "            \n",
    "        eff = []    \n",
    "        if efficient_solutions.getSize() > 1:\n",
    "            eff = efficient_solutions.getPoints().values()\n",
    "            #ez = [evaluate_solution(r, objects,capacity)[1] for r in eff]\n",
    "            \n",
    "            #print(ez)\n",
    "\n",
    "\n",
    "            plot_objective_space(eff, non_dominated_points)\n",
    "        population = []\n",
    "        for i in auxiliar_population.getSolutions():\n",
    "            population.append(np.asarray(i))\n",
    "        auxiliar_population = NDTree.NDTree(nbDims)\n",
    "        \n",
    "\n",
    "        #print('efficient solutions=Evaluations')\n",
    "        print('taille du front efficace')\n",
    "        print(len(eff))\n",
    "\n",
    "    return efficient_solutions\n"
   ]
  },
  {
   "cell_type": "code",
   "execution_count": 148,
   "metadata": {},
   "outputs": [
    {
     "data": {
      "image/png": "[encoded data removed]",
      "text/plain": [
       "<Figure size 432x288 with 1 Axes>"
      ]
     },
     "metadata": {
      "needs_background": "light"
     },
     "output_type": "display_data"
    },
    {
     "name": "stdout",
     "output_type": "stream",
     "text": [
      "taille du front efficace\n",
      "22\n"
     ]
    },
    {
     "data": {
      "image/png": "[encoded data removed]",
      "text/plain": [
       "<Figure size 432x288 with 1 Axes>"
      ]
     },
     "metadata": {
      "needs_background": "light"
     },
     "output_type": "display_data"
    },
    {
     "name": "stdout",
     "output_type": "stream",
     "text": [
      "taille du front efficace\n",
      "346\n"
     ]
    },
    {
     "data": {
      "image/png": "[encoded data removed]",
      "text/plain": [
       "<Figure size 432x288 with 1 Axes>"
      ]
     },
     "metadata": {
      "needs_background": "light"
     },
     "output_type": "display_data"
    },
    {
     "name": "stdout",
     "output_type": "stream",
     "text": [
      "taille du front efficace\n",
      "3832\n"
     ]
    },
    {
     "ename": "KeyboardInterrupt",
     "evalue": "",
     "output_type": "error",
     "traceback": [
      "\u001b[0;31m---------------------------------------------------------------------------\u001b[0m",
      "\u001b[0;31mKeyboardInterrupt\u001b[0m                         Traceback (most recent call last)",
      "\u001b[0;32m/tmp/ipykernel_3403/1542661865.py\u001b[0m in \u001b[0;36m<module>\u001b[0;34m\u001b[0m\n\u001b[0;32m----> 1\u001b[0;31m \u001b[0mlocalParetoSearchNew2\u001b[0m\u001b[0;34m(\u001b[0m\u001b[0mobjects\u001b[0m\u001b[0;34m,\u001b[0m \u001b[0mweight\u001b[0m\u001b[0;34m,\u001b[0m \u001b[0mnd_points\u001b[0m\u001b[0;34m)\u001b[0m\u001b[0;34m\u001b[0m\u001b[0;34m\u001b[0m\u001b[0m\n\u001b[0m",
      "\u001b[0;32m/tmp/ipykernel_3403/3323490480.py\u001b[0m in \u001b[0;36mlocalParetoSearchNew2\u001b[0;34m(objects, capacity, non_dominated_points)\u001b[0m\n\u001b[1;32m     58\u001b[0m \u001b[0;34m\u001b[0m\u001b[0m\n\u001b[1;32m     59\u001b[0m                     \u001b[0;32mif\u001b[0m \u001b[0mauxiliar_population\u001b[0m\u001b[0;34m.\u001b[0m\u001b[0mUpdate\u001b[0m\u001b[0;34m(\u001b[0m\u001b[0mcandidate\u001b[0m\u001b[0;34m)\u001b[0m\u001b[0;34m:\u001b[0m\u001b[0;34m\u001b[0m\u001b[0;34m\u001b[0m\u001b[0m\n\u001b[0;32m---> 60\u001b[0;31m                         \u001b[0mefficient_solutions\u001b[0m\u001b[0;34m.\u001b[0m\u001b[0mUpdate\u001b[0m\u001b[0;34m(\u001b[0m\u001b[0mcandidate\u001b[0m\u001b[0;34m)\u001b[0m\u001b[0;34m\u001b[0m\u001b[0;34m\u001b[0m\u001b[0m\n\u001b[0m\u001b[1;32m     61\u001b[0m \u001b[0;34m\u001b[0m\u001b[0m\n\u001b[1;32m     62\u001b[0m             \u001b[0mnghbhood\u001b[0m\u001b[0;34m,\u001b[0m \u001b[0mevals\u001b[0m \u001b[0;34m=\u001b[0m \u001b[0;34m[\u001b[0m\u001b[0;34m]\u001b[0m\u001b[0;34m,\u001b[0m \u001b[0;34m[\u001b[0m\u001b[0;34m]\u001b[0m\u001b[0;34m\u001b[0m\u001b[0;34m\u001b[0m\u001b[0m\n",
      "\u001b[0;32m~/Bureau/M2-21-22/MADMC/ProjetMADMC2022/NDTree.py\u001b[0m in \u001b[0;36mUpdate\u001b[0;34m(self, candidate)\u001b[0m\n\u001b[1;32m     22\u001b[0m             \u001b[0mupdated\u001b[0m \u001b[0;34m=\u001b[0m \u001b[0mself\u001b[0m\u001b[0;34m.\u001b[0m\u001b[0mroot\u001b[0m\u001b[0;34m.\u001b[0m\u001b[0mUpdateNode\u001b[0m\u001b[0;34m(\u001b[0m\u001b[0mcandidate\u001b[0m\u001b[0;34m)\u001b[0m\u001b[0;34m\u001b[0m\u001b[0;34m\u001b[0m\u001b[0m\n\u001b[1;32m     23\u001b[0m             \u001b[0;32mif\u001b[0m \u001b[0mupdated\u001b[0m\u001b[0;34m:\u001b[0m\u001b[0;34m\u001b[0m\u001b[0;34m\u001b[0m\u001b[0m\n\u001b[0;32m---> 24\u001b[0;31m                 \u001b[0mself\u001b[0m\u001b[0;34m.\u001b[0m\u001b[0mroot\u001b[0m\u001b[0;34m.\u001b[0m\u001b[0mInsert\u001b[0m\u001b[0;34m(\u001b[0m\u001b[0mcandidate\u001b[0m\u001b[0;34m)\u001b[0m\u001b[0;34m\u001b[0m\u001b[0;34m\u001b[0m\u001b[0m\n\u001b[0m\u001b[1;32m     25\u001b[0m             \u001b[0;32mreturn\u001b[0m \u001b[0mupdated\u001b[0m\u001b[0;34m\u001b[0m\u001b[0;34m\u001b[0m\u001b[0m\n\u001b[1;32m     26\u001b[0m \u001b[0;34m\u001b[0m\u001b[0m\n",
      "\u001b[0;32m~/Bureau/M2-21-22/MADMC/ProjetMADMC2022/NDTree.py\u001b[0m in \u001b[0;36mInsert\u001b[0;34m(self, candidate)\u001b[0m\n\u001b[1;32m    203\u001b[0m             \u001b[0;32mif\u001b[0m \u001b[0;32mnot\u001b[0m \u001b[0mlist\u001b[0m\u001b[0;34m(\u001b[0m\u001b[0mcandidate\u001b[0m\u001b[0;34m.\u001b[0m\u001b[0mkeys\u001b[0m\u001b[0;34m(\u001b[0m\u001b[0;34m)\u001b[0m\u001b[0;34m)\u001b[0m\u001b[0;34m[\u001b[0m\u001b[0;36m0\u001b[0m\u001b[0;34m]\u001b[0m \u001b[0;32min\u001b[0m \u001b[0mlist\u001b[0m\u001b[0;34m(\u001b[0m\u001b[0mself\u001b[0m\u001b[0;34m.\u001b[0m\u001b[0mpoints\u001b[0m\u001b[0;34m.\u001b[0m\u001b[0mkeys\u001b[0m\u001b[0;34m(\u001b[0m\u001b[0;34m)\u001b[0m\u001b[0;34m)\u001b[0m\u001b[0;34m:\u001b[0m \u001b[0;31m#si le candidat n'est pas déjà présent dans le noeud\u001b[0m\u001b[0;34m\u001b[0m\u001b[0;34m\u001b[0m\u001b[0m\n\u001b[1;32m    204\u001b[0m \u001b[0;34m\u001b[0m\u001b[0m\n\u001b[0;32m--> 205\u001b[0;31m                 \u001b[0mself\u001b[0m\u001b[0;34m.\u001b[0m\u001b[0mpoints\u001b[0m\u001b[0;34m.\u001b[0m\u001b[0mupdate\u001b[0m\u001b[0;34m(\u001b[0m\u001b[0mcandidate\u001b[0m\u001b[0;34m)\u001b[0m\u001b[0;34m\u001b[0m\u001b[0;34m\u001b[0m\u001b[0m\n\u001b[0m\u001b[1;32m    206\u001b[0m                 \u001b[0mself\u001b[0m\u001b[0;34m.\u001b[0m\u001b[0mUpdateIdealNadir\u001b[0m\u001b[0;34m(\u001b[0m\u001b[0mcandidate\u001b[0m\u001b[0;34m)\u001b[0m\u001b[0;34m\u001b[0m\u001b[0;34m\u001b[0m\u001b[0m\n\u001b[1;32m    207\u001b[0m \u001b[0;34m\u001b[0m\u001b[0m\n",
      "\u001b[0;31mKeyboardInterrupt\u001b[0m: "
     ]
    }
   ],
   "source": [
    "localParetoSearchNew2(objects, weight, nd_points)"
   ]
  },
  {
   "cell_type": "code",
   "execution_count": null,
   "metadata": {},
   "outputs": [],
   "source": []
  }
 ],
 "metadata": {
  "kernelspec": {
   "display_name": "Python 3 (ipykernel)",
   "language": "python",
   "name": "python3"
  },
  "language_info": {
   "codemirror_mode": {
    "name": "ipython",
    "version": 3
   },
   "file_extension": ".py",
   "mimetype": "text/x-python",
   "name": "python",
   "nbconvert_exporter": "python",
   "pygments_lexer": "ipython3",
   "version": "3.10.1"
  }
 },
 "nbformat": 4,
 "nbformat_minor": 2
}
