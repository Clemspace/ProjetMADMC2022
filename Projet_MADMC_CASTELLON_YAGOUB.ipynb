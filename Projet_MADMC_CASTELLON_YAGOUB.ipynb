{
 "cells": [
  {
   "cell_type": "markdown",
   "metadata": {},
   "source": [
    "# Projet MADMC"
   ]
  },
  {
   "cell_type": "code",
   "execution_count": 58,
   "metadata": {},
   "outputs": [],
   "source": [
    "import math\n",
    "import numpy as np\n",
    "import random\n",
    "import matplotlib.pyplot as plt"
   ]
  },
  {
   "cell_type": "code",
   "execution_count": 11,
   "metadata": {},
   "outputs": [],
   "source": [
    "def readInstance(path):\n",
    "\n",
    "    with open(path, 'r') as f:\n",
    "        allLines = f.readlines()\n",
    "\n",
    "    n = int(allLines[2].split(\" \")[1])\n",
    "\n",
    "    objects = np.empty((n, 3))\n",
    "    for i, line in enumerate(allLines[4:4+n]):\n",
    "        objects[i] = list( map(int, line.rstrip().lstrip(\"i \").split(\"\\t\")) )\n",
    "\n",
    "    W = int(allLines[-2].split(\" \")[1])\n",
    "\n",
    "    return objects, W"
   ]
  },
  {
   "cell_type": "code",
   "execution_count": 12,
   "metadata": {},
   "outputs": [],
   "source": [
    "def readNotDominatedPoints(path):\n",
    "\n",
    "    with open(path, 'r') as f:\n",
    "        allLines = f.readlines()\n",
    "\n",
    "    allPoints = []\n",
    "    for line in allLines:\n",
    "        allPoints.append( list(map(int, line.rstrip().split(\"\\t\"))) )\n",
    "\n",
    "    return np.array(allPoints)"
   ]
  },
  {
   "cell_type": "code",
   "execution_count": 13,
   "metadata": {},
   "outputs": [],
   "source": [
    "def proportionNotDominated(nd_points, potential_nd_points):\n",
    "    nd_points_set = set(list(map(tuple, nd_points)))\n",
    "    potential_nd_points_set = set(list(map(tuple, potential_nd_points)))\n",
    "    \n",
    "    return len(nd_points_set & potential_nd_points_set)/len(nd_points)"
   ]
  },
  {
   "cell_type": "code",
   "execution_count": 14,
   "metadata": {},
   "outputs": [],
   "source": [
    "def averageDistance(nd_points, potential_nd_points):\n",
    "    nadir_pt = np.array((nd_points[:, 0].min(), nd_points[:, 1].min()))\n",
    "    print(nadir_pt)\n",
    "    ideal_pt = np.array((nd_points[:, 0].max(), nd_points[:, 1].max()))\n",
    "    p1 = 1/(ideal_pt[0]-nadir_pt[0])\n",
    "    p2 = 1/(ideal_pt[1]-nadir_pt[1])\n",
    "    \n",
    "    distances = []\n",
    "    \n",
    "    for i, nd_point in enumerate(nd_points):\n",
    "        euclidian_dist = math.inf\n",
    "        for potential_nd_point in potential_nd_points:\n",
    "            euclidian_dist_tmp =  math.sqrt(p1*(potential_nd_point[0]-nd_point[0])**2 + p2*(potential_nd_point[1]-nd_point[1])**2)\n",
    "            \n",
    "            if(euclidian_dist_tmp < euclidian_dist):\n",
    "                euclidian_dist = euclidian_dist_tmp\n",
    "    \n",
    "        distances.append(euclidian_dist)\n",
    "    \n",
    "    distances = np.array(distances)\n",
    "    \n",
    "    return (1/len(nd_points))*distances.sum()\n"
   ]
  },
  {
   "cell_type": "code",
   "execution_count": 15,
   "metadata": {},
   "outputs": [],
   "source": [
    "def solutionTotalWeight(solution, objects):\n",
    "    sum = 0\n",
    "    for i, sol in enumerate(solution):\n",
    "        if(sol == 1):\n",
    "            sum += objects[:,0][i]\n",
    "    return sum"
   ]
  },
  {
   "cell_type": "code",
   "execution_count": 42,
   "metadata": {},
   "outputs": [],
   "source": [
    "def generatePop(objects, max_weight):\n",
    "    solution = np.random.randint(2, size=len(objects))\n",
    "    sumWeights = 0\n",
    "    freeObjectsIndexes = []\n",
    "    \n",
    "    for i in range(0, len(solution)):\n",
    "        if(solution[i] == 1):\n",
    "            sumWeights += objects[:,0][i]\n",
    "        else:\n",
    "            freeObjectsIndexes.append(i)\n",
    "\n",
    "        #make sure that the solution respects max weight\n",
    "        if(sumWeights > max_weight):\n",
    "            solution[i] = 0\n",
    "            sumWeights -= objects[:,0][i]\n",
    "            freeObjectsIndexes.append(i)\n",
    "    \n",
    "    #add random objects to fill the bag\n",
    "    while(sumWeights < max_weight and len(freeObjectsIndexes) > 0):\n",
    "        i = random.randint(0, len(freeObjectsIndexes)-1)\n",
    "        if(sumWeights + objects[:,0][freeObjectsIndexes[i]] < max_weight):\n",
    "            solution[freeObjectsIndexes[i]] = 1\n",
    "            sumWeights += objects[:,0][freeObjectsIndexes[i]]\n",
    "            #print(\"add \", objects[:,0][freeObjectsIndexes[i]], sumWeights)\n",
    "        del freeObjectsIndexes[i]\n",
    "            \n",
    "    #print(\"current weight : \", sumWeights, \" max weight : \", max_weight)\n",
    "    \n",
    "    \n",
    "    return solution"
   ]
  },
  {
   "cell_type": "code",
   "execution_count": 110,
   "metadata": {},
   "outputs": [],
   "source": [
    "def neighborhood(solution, objects, max_weight):\n",
    "    solutionSum = solution.sum()\n",
    "    neighborhoodPop = []\n",
    "    \n",
    "    #if there is at least one object selected and still some other(s) not selected\n",
    "    if(solutionSum >= 1 and solutionSum < len(objects)):\n",
    "        totalWeight = solutionTotalWeight(solution, objects)\n",
    "        newTotalWeight = totalWeight\n",
    "        neighbor_sol = solution.copy()\n",
    "        permutationDone = False\n",
    "        \n",
    "        #sort objects in two lists (of indexes) wether they are in backpack or not\n",
    "        availableObjects = []\n",
    "        takenObjects = []\n",
    "        for i in range(0, len(neighbor_sol)-1):\n",
    "            if(neighbor_sol[i] == 0):\n",
    "                availableObjects.append(i)\n",
    "            else:\n",
    "                takenObjects.append(i)\n",
    "                \n",
    "        for i in range(len(takenObjects)):\n",
    "            takenObjectIndex = takenObjects[i]\n",
    "\n",
    "            for j in range(len(availableObjects)):\n",
    "                availableObjectIndex = availableObjects[j]\n",
    "\n",
    "                newTotalWeight = totalWeight - objects[:,0][takenObjectIndex] + objects[:,0][availableObjectIndex]\n",
    "\n",
    "                #permutation only if valid solution\n",
    "                if(newTotalWeight > max_weight):\n",
    "                    break\n",
    "                else:\n",
    "                    neighbor_sol = solution.copy()\n",
    "                    totalWeight = newTotalWeight\n",
    "                    permutationDone = True\n",
    "                    neighbor_sol[takenObjectIndex] = 0\n",
    "                    neighbor_sol[availableObjectIndex] = 1\n",
    "                    \n",
    "                    availableObjectsTmp = availableObjects.copy()\n",
    "                    availableObjectsTmp.append(availableObjectIndex)\n",
    "                    del availableObjectsTmp[j] #no need to del for takenObjects (list not used after)\n",
    "                    #print(\"replaced index\", takenObjectIndex, \"with\", availableObjectIndex)\n",
    "\n",
    "\n",
    "                    #new spaces filled with objects if possible\n",
    "                    new_object_index = random.randint(0, len(availableObjectsTmp)-1)\n",
    "                    availableObjectIndex = availableObjectsTmp[new_object_index]\n",
    "\n",
    "                    while(totalWeight < max_weight and len(availableObjectsTmp) > 0):\n",
    "                        if(totalWeight+objects[:,0][availableObjectIndex] <= max_weight):\n",
    "                            neighbor_sol[availableObjectIndex] = 1\n",
    "                            totalWeight += objects[:,0][availableObjectIndex]\n",
    "\n",
    "                        del availableObjectsTmp[new_object_index]\n",
    "\n",
    "                        if(len(availableObjectsTmp) > 0): #verification for the last loop\n",
    "                            new_object_index = random.randint(0, len(availableObjectsTmp)-1)\n",
    "                            availableObjectIndex = availableObjectsTmp[new_object_index]\n",
    "                    \n",
    "                    neighborhoodPop.append(neighbor_sol)\n",
    "                    \n",
    "        #print(\"aa\",neighborhoodPop,\"bb\", neighborhoodPop[0])\n",
    "        return neighborhoodPop"
   ]
  },
  {
   "cell_type": "code",
   "execution_count": 19,
   "metadata": {},
   "outputs": [],
   "source": [
    "def evaluateSolution(solution, earnings):\n",
    "    earnings_values = [0]*(earnings[0].size)\n",
    "    \n",
    "    for i in range(earnings[0].size): #for each objective\n",
    "        for j in range(earnings[:, i].size-1): #the valuation for each object\n",
    "            earnings_values[i] += solution[j]*earnings[:, i][j] #solution[j] = 1 or 0\n",
    "    return earnings_values"
   ]
  },
  {
   "cell_type": "code",
   "execution_count": 20,
   "metadata": {},
   "outputs": [],
   "source": [
    "def isDominated(sol1, sol2, earnings):\n",
    "    earnings_sol1 = evaluateSolution(sol1, earnings)\n",
    "    earnings_sol2 = evaluateSolution(sol2, earnings)\n",
    "    if earnings_sol1[0] < earnings_sol2[0]:\n",
    "        return earnings_sol1[1] <= earnings_sol2[1]\n",
    "    return False"
   ]
  },
  {
   "cell_type": "code",
   "execution_count": 108,
   "metadata": {},
   "outputs": [],
   "source": [
    "def update(solutionsSet, solutionToReview, objects, earnings):\n",
    "    for solution in solutionsSet:\n",
    "        if(isDominated(solutionToReview, solution, earnings)):\n",
    "            return False\n",
    "        \n",
    "    #another loop to not remove element if solutionToReview is dominated\n",
    "    \"\"\"for i in range(len(solutionsSet):\n",
    "        if(isDominated(solutionsSet[i], solutionToReview, earnings)):\n",
    "            #print(solutionsSet,\"\\n\")\n",
    "            solutionsSet.remove(solutionsSet[i])\"\"\"\n",
    "    \n",
    "    solutionsSet.append(solutionToReview)\n",
    "    return True"
   ]
  },
  {
   "cell_type": "code",
   "execution_count": 32,
   "metadata": {},
   "outputs": [],
   "source": [
    "def plot_objective_space(points, points2):\n",
    "    x, y = [i[0] for i in points], [j[1] for j in points]\n",
    "    x2, y2 = [int(i[0]) for i in points2], [int(j[1]) for j in points2]\n",
    "    plt.scatter(x, y, c='red')\n",
    "    plt.scatter(x2, y2, c='blue')\n",
    "    plt.show()"
   ]
  },
  {
   "cell_type": "code",
   "execution_count": 51,
   "metadata": {},
   "outputs": [],
   "source": [
    "def localParetoSearch1(objects, capacity, non_dominated_points=[]):\n",
    "    earnings = objects[:, 1:]\n",
    "\n",
    "    #objects = objects[objects[:, 0].argsort()]\n",
    "\n",
    "    #random_sol, solution_alea = generatePop(objects, capacity)\n",
    "    random_sol = generatePop(objects, capacity)\n",
    "\n",
    "    #valid, evalP = evaluateSolution(solution_alea, objects, capacity)\n",
    "    evalP = evaluateSolution(random_sol, earnings)\n",
    "    \n",
    "    # initialisation d'un ens. de sol. efficaces  et d'une population\n",
    "    population = []\n",
    "    efficient_solutions = []\n",
    "    efficient_solutions.append(random_sol)\n",
    "    population.append(np.array(random_sol))\n",
    "    k = 0\n",
    "    ez = [evalP]\n",
    "    # initialisation d'une pop. auxiliaire\n",
    "    auxiliar_population = []\n",
    "    evalBase = []\n",
    "    while(len(population) > 0):\n",
    "        k += 1\n",
    "        j = 0\n",
    "\n",
    "        #print(population)\n",
    "        # génération de tous les voisins de chaque solution appartenant à population\n",
    "        nghbhood, evals = [], []\n",
    "        for p in population:\n",
    "            print(str((j)/len(population)*100) + '%')\n",
    "\n",
    "            j += 1\n",
    "\n",
    "            #valid, evalBase = evaluate_solution(p, objects, capacity)\n",
    "            evalBase = evaluateSolution(p, earnings)\n",
    "\n",
    "\n",
    "            #voisinage, evals = voisinage1_1(p, objects, capacity)\n",
    "            nghbhood = neighborhood(p, objects, capacity)\n",
    "            \n",
    "            #while not voisinage:\n",
    "            #voisinage, evals = voisinage1_1(p, objects, capacity)\n",
    "\n",
    "            #for voisin, eval in zip(voisinage, evals):\n",
    "            for neighbor in nghbhood:\n",
    "                #print('nouvelleeval')\n",
    "                #print(eval)\n",
    "                # si p_prime n'est pas dominé par p:\n",
    "\n",
    "                #if not dominated(eval, evalBase):\n",
    "                if not isDominated(neighbor, p, earnings):\n",
    "\n",
    "                    if update(auxiliar_population, neighbor, objects, earnings):\n",
    "                        update(efficient_solutions, neighbor, objects, earnings)\n",
    "                        \n",
    "            nghbhood, evals = [], []\n",
    "            \n",
    "            \n",
    "        if len(efficient_solutions) > 10:\n",
    "            ez = [evaluateSolution(r, earnings) for r in efficient_solutions]\n",
    "            print(ez)\n",
    "            plot_objective_space(ez, non_dominated_points)\n",
    "\n",
    "        population = auxiliar_population\n",
    "        auxiliar_population = []\n",
    "        #print('efficient solutions=Evaluations')\n",
    "        print('taille du front efficace')\n",
    "        print(np.array(efficient_solutions).shape)\n",
    "\n",
    "    return efficient_solutions\n"
   ]
  },
  {
   "cell_type": "code",
   "execution_count": 103,
   "metadata": {},
   "outputs": [
    {
     "name": "stdout",
     "output_type": "stream",
     "text": [
      "[]\n"
     ]
    }
   ],
   "source": [
    "a = []\n",
    "b = np.array([4,5,6])\n",
    "a.append(b)\n",
    "a.remove(b)\n",
    "print(a)"
   ]
  },
  {
   "cell_type": "markdown",
   "metadata": {},
   "source": [
    "**-------------TEST METHODES-------------**"
   ]
  },
  {
   "cell_type": "code",
   "execution_count": 22,
   "metadata": {
    "scrolled": true
   },
   "outputs": [
    {
     "name": "stdout",
     "output_type": "stream",
     "text": [
      "[[394. 783. 840.]\n",
      " [911. 198. 798.]\n",
      " [768. 278. 335.]\n",
      " [477. 629. 554.]\n",
      " [513. 952. 365.]\n",
      " [636. 717. 916.]\n",
      " [607.  17. 142.]\n",
      " [138. 804. 243.]\n",
      " [401. 130. 157.]\n",
      " [998. 219. 109.]\n",
      " [839. 613. 513.]\n",
      " [637. 524. 296.]\n",
      " [972. 293. 494.]\n",
      " [527. 770. 771.]\n",
      " [891. 284. 400.]\n",
      " [807. 919. 353.]\n",
      " [949. 526.  70.]\n",
      " [193. 663.  86.]\n",
      " [349.  65. 890.]\n",
      " [458.  64.  21.]\n",
      " [970. 902. 239.]\n",
      " [267. 540. 851.]\n",
      " [760. 513. 375.]\n",
      " [532.  40. 668.]\n",
      " [931. 930. 438.]\n",
      " [285. 738. 721.]\n",
      " [354. 688. 640.]\n",
      " [440. 880. 166.]\n",
      " [331. 229. 829.]\n",
      " [351. 686. 893.]\n",
      " [589. 657. 956.]\n",
      " [440. 924. 858.]\n",
      " [814. 684. 399.]\n",
      " [483. 216. 911.]\n",
      " [920. 148. 950.]\n",
      " [641. 432. 881.]\n",
      " [281. 786. 619.]\n",
      " [447. 226. 308.]\n",
      " [276. 556. 188.]\n",
      " [170. 906. 417.]\n",
      " [126. 495. 104.]\n",
      " [984. 935. 760.]\n",
      " [383. 750. 684.]\n",
      " [294. 233. 369.]\n",
      " [245. 153. 584.]\n",
      " [126. 793. 732.]\n",
      " [745.  75. 164.]\n",
      " [ 53. 522. 950.]\n",
      " [240. 798. 177.]\n",
      " [656. 967. 732.]\n",
      " [759.  94. 639.]\n",
      " [520.  79. 135.]\n",
      " [205. 461.  70.]\n",
      " [573. 755. 819.]\n",
      " [158. 999.  52.]\n",
      " [890. 126. 205.]\n",
      " [ 55. 870. 997.]\n",
      " [  5. 923.  73.]\n",
      " [181. 163. 594.]\n",
      " [913. 819. 392.]\n",
      " [552. 579. 359.]\n",
      " [687. 100. 453.]\n",
      " [757. 304. 531.]\n",
      " [577. 877. 992.]\n",
      " [629.  36. 748.]\n",
      " [833. 925. 748.]\n",
      " [831. 979. 873.]\n",
      " [903. 983. 744.]\n",
      " [497. 164. 667.]\n",
      " [889.  77. 830.]\n",
      " [248. 629. 650.]\n",
      " [700. 317. 229.]\n",
      " [232.  75. 329.]\n",
      " [224. 651. 633.]\n",
      " [971. 280. 511.]\n",
      " [719. 114. 546.]\n",
      " [592. 944. 472.]\n",
      " [337. 847. 451.]\n",
      " [  4. 345. 435.]\n",
      " [833. 234. 598.]\n",
      " [483. 482. 675.]\n",
      " [712. 183. 305.]\n",
      " [ 41. 414. 622.]\n",
      " [674. 638. 696.]\n",
      " [185. 609. 347.]\n",
      " [730. 329. 627.]\n",
      " [203. 920. 740.]\n",
      " [653. 258. 685.]\n",
      " [ 88. 261. 532.]\n",
      " [686.  94. 877.]\n",
      " [362. 577. 112.]\n",
      " [666. 289. 593.]\n",
      " [289. 330. 775.]\n",
      " [984.   4. 190.]\n",
      " [332. 189. 827.]\n",
      " [958. 919. 437.]\n",
      " [699. 122. 765.]\n",
      " [384. 774. 686.]\n",
      " [916. 862. 943.]\n",
      " [793. 548. 204.]] \n",
      " max weight : 26856\n"
     ]
    }
   ],
   "source": [
    "(objects, weight) = readInstance(\"InstancesMOKP/100_items/2KP100-TA-0.dat\")\n",
    "nd_points = readNotDominatedPoints(\"InstancesMOKP/100_items/2KP100-TA-0.eff\")\n",
    "print(objects, \"\\n max weight :\", weight)"
   ]
  },
  {
   "cell_type": "code",
   "execution_count": 23,
   "metadata": {
    "scrolled": true
   },
   "outputs": [
    {
     "name": "stdout",
     "output_type": "stream",
     "text": [
      "99\n"
     ]
    }
   ],
   "source": [
    "#earnings for each objective\n",
    "earnings = objects[:,1:]\n",
    "print(earnings[:, 1].size-1)"
   ]
  },
  {
   "cell_type": "code",
   "execution_count": 73,
   "metadata": {},
   "outputs": [],
   "source": [
    "#print(nd_points)\n",
    "#nd_points = np.hsplit(nd_points, 2)\n",
    "#print(nd_points)\n",
    "#plot.plot(nd_points[:,0], nd_points[:,1])"
   ]
  },
  {
   "cell_type": "code",
   "execution_count": 31,
   "metadata": {},
   "outputs": [
    {
     "name": "stdout",
     "output_type": "stream",
     "text": [
      "current weight :  26825.0  max weight :  26856\n",
      "[0 1 1 1 1 0 0 0 0 0 1 0 0 1 0 1 0 1 0 0 1 1 0 1 0 0 0 1 0 1 0 0 0 1 1 1 0\n",
      " 1 1 1 0 0 1 1 1 1 1 1 0 1 1 1 1 0 0 0 0 1 0 0 1 1 0 0 1 1 1 0 0 0 0 1 1 0\n",
      " 1 1 1 1 1 1 0 0 0 0 0 1 1 0 1 0 1 0 0 0 1 1 0 0 1 1] 26825.0 151\n"
     ]
    }
   ],
   "source": [
    "generatedPop = generatePop(objects, weight)\n",
    "print(generatedPop, solutionTotalWeight(generatedPop, objects), len(neighborhood(generatedPop, objects, weight)))"
   ]
  },
  {
   "cell_type": "code",
   "execution_count": 102,
   "metadata": {
    "scrolled": true
   },
   "outputs": [
    {
     "name": "stdout",
     "output_type": "stream",
     "text": [
      "1\n",
      "2\n",
      "0\n",
      "1\n",
      "[28033.0, 27763.0]\n"
     ]
    },
    {
     "data": {
      "text/plain": [
       "[28033.0, 27763.0]"
      ]
     },
     "execution_count": 102,
     "metadata": {},
     "output_type": "execute_result"
    }
   ],
   "source": [
    "evaluateSolution(generatedPop, earnings)"
   ]
  },
  {
   "cell_type": "code",
   "execution_count": 25,
   "metadata": {},
   "outputs": [
    {
     "name": "stdout",
     "output_type": "stream",
     "text": [
      "exchanged 94 and 65\n",
      "[0 0 1 1 1 0 0 1 1 1 1 0 1 1 1 0 0 1 1 1 1 1 0 1 1 1 1 1 1 1 1 1 0 1 1 1 0\n",
      " 1 1 1 0 1 1 1 1 1 0 1 0 0 0 0 1 0 0 1 1 1 1 0 1 1 0 1 1 0 1 0 1 1 0 0 0 1\n",
      " 0 1 1 1 1 0 1 0 1 0 0 0 0 0 1 0 0 0 0 0 1 0 0 0 0 0] 26854.0\n"
     ]
    }
   ],
   "source": [
    "neighbor = neighborhood(generatedPop, objects, weight)\n",
    "print(neighbor, solutionTotalWeight(neighbor, objects))"
   ]
  },
  {
   "cell_type": "code",
   "execution_count": null,
   "metadata": {
    "scrolled": true
   },
   "outputs": [
    {
     "name": "stdout",
     "output_type": "stream",
     "text": [
      "0.0%\n",
      "taille du front efficace\n",
      "(10, 100)\n",
      "0.0%\n",
      "11.11111111111111%\n",
      "22.22222222222222%\n",
      "33.33333333333333%\n",
      "44.44444444444444%\n",
      "55.55555555555556%\n",
      "66.66666666666666%\n",
      "77.77777777777779%\n",
      "88.88888888888889%\n",
      "[[27513.0, 29153.0], [28867.0, 29913.0], [29292.0, 30847.0], [28903.0, 30904.0], [30069.0, 30886.0], [30498.0, 30677.0], [28554.0, 31327.0], [29275.0, 31293.0], [30704.0, 31483.0], [31309.0, 30773.0], [31189.0, 31584.0], [31287.0, 31506.0], [31966.0, 31680.0], [29574.0, 31734.0], [30981.0, 31873.0], [30821.0, 31887.0], [30073.0, 32281.0], [30753.0, 33406.0], [31090.0, 31859.0], [31373.0, 33549.0], [31515.0, 31943.0], [31429.0, 31968.0], [31501.0, 32867.0], [31717.0, 33368.0], [31842.0, 32115.0], [32191.0, 32573.0], [32037.0, 32897.0], [31761.0, 32910.0], [32214.0, 31667.0], [32216.0, 31708.0], [32226.0, 33077.0], [32248.0, 31465.0], [32314.0, 32468.0], [32539.0, 32010.0], [32827.0, 33211.0], [32902.0, 32333.0], [32537.0, 33437.0], [33278.0, 32812.0], [31606.0, 33522.0], [31900.0, 33445.0], [33132.0, 32825.0], [33214.0, 32967.0], [32850.0, 33354.0], [33560.0, 31978.0], [33420.0, 32118.0]]\n"
     ]
    },
    {
     "data": {
      "image/png": "[encoded data removed]",
      "text/plain": [
       "<Figure size 432x288 with 1 Axes>"
      ]
     },
     "metadata": {
      "needs_background": "light"
     },
     "output_type": "display_data"
    },
    {
     "name": "stdout",
     "output_type": "stream",
     "text": [
      "taille du front efficace\n",
      "(45, 100)\n",
      "0.0%\n",
      "2.7027027027027026%\n",
      "5.405405405405405%\n",
      "8.108108108108109%\n",
      "10.81081081081081%\n",
      "13.513513513513514%\n",
      "16.216216216216218%\n",
      "18.91891891891892%\n",
      "21.62162162162162%\n",
      "24.324324324324326%\n",
      "27.027027027027028%\n",
      "29.72972972972973%\n",
      "32.432432432432435%\n",
      "35.13513513513514%\n",
      "37.83783783783784%\n",
      "40.54054054054054%\n",
      "43.24324324324324%\n",
      "45.94594594594595%\n",
      "48.64864864864865%\n",
      "51.35135135135135%\n",
      "54.054054054054056%\n",
      "56.75675675675676%\n",
      "59.45945945945946%\n",
      "62.16216216216216%\n",
      "64.86486486486487%\n",
      "67.56756756756756%\n",
      "70.27027027027027%\n",
      "72.97297297297297%\n",
      "75.67567567567568%\n",
      "78.37837837837837%\n",
      "81.08108108108108%\n",
      "83.78378378378379%\n",
      "86.48648648648648%\n",
      "89.1891891891892%\n",
      "91.8918918918919%\n",
      "94.5945945945946%\n",
      "97.2972972972973%\n",
      "[[27513.0, 29153.0], [28867.0, 29913.0], [29292.0, 30847.0], [28903.0, 30904.0], [30069.0, 30886.0], [30498.0, 30677.0], [28554.0, 31327.0], [29275.0, 31293.0], [30704.0, 31483.0], [31309.0, 30773.0], [31189.0, 31584.0], [31287.0, 31506.0], [31966.0, 31680.0], [29574.0, 31734.0], [30981.0, 31873.0], [30821.0, 31887.0], [30073.0, 32281.0], [30753.0, 33406.0], [31090.0, 31859.0], [31373.0, 33549.0], [31515.0, 31943.0], [31429.0, 31968.0], [31501.0, 32867.0], [31717.0, 33368.0], [31842.0, 32115.0], [32191.0, 32573.0], [32037.0, 32897.0], [31761.0, 32910.0], [32214.0, 31667.0], [32216.0, 31708.0], [32226.0, 33077.0], [32248.0, 31465.0], [32314.0, 32468.0], [32539.0, 32010.0], [32827.0, 33211.0], [32902.0, 32333.0], [32537.0, 33437.0], [33278.0, 32812.0], [31606.0, 33522.0], [31900.0, 33445.0], [33132.0, 32825.0], [33214.0, 32967.0], [32850.0, 33354.0], [33560.0, 31978.0], [33420.0, 32118.0], [33343.0, 32724.0], [33161.0, 33061.0], [33441.0, 32056.0], [33582.0, 32547.0], [33216.0, 32976.0], [33523.0, 32862.0], [33631.0, 32604.0], [33156.0, 33682.0], [33204.0, 33393.0], [32017.0, 33818.0], [33573.0, 32739.0], [33839.0, 32601.0], [31948.0, 33832.0], [31846.0, 33852.0], [33200.0, 33490.0], [31812.0, 33945.0], [32360.0, 33873.0], [32941.0, 34713.0], [33076.0, 33954.0], [33048.0, 34447.0], [33333.0, 33600.0], [33303.0, 34170.0], [33184.0, 34533.0], [33453.0, 34671.0], [32915.0, 34935.0], [34139.0, 34698.0], [33501.0, 34754.0], [34217.0, 34166.0], [34860.0, 33846.0], [34386.0, 34587.0], [34630.0, 34489.0], [34846.0, 33968.0], [33748.0, 35172.0], [34141.0, 34662.0], [35032.0, 34391.0], [34868.0, 34593.0], [35314.0, 34346.0], [33775.0, 34879.0], [34513.0, 34689.0], [35560.0, 33390.0]]\n"
     ]
    },
    {
     "data": {
      "image/png": "[encoded data removed]",
      "text/plain": [
       "<Figure size 432x288 with 1 Axes>"
      ]
     },
     "metadata": {
      "needs_background": "light"
     },
     "output_type": "display_data"
    },
    {
     "name": "stdout",
     "output_type": "stream",
     "text": [
      "taille du front efficace\n",
      "(85, 100)\n",
      "0.0%\n",
      "1.36986301369863%\n",
      "2.73972602739726%\n",
      "4.10958904109589%\n",
      "5.47945205479452%\n",
      "6.8493150684931505%\n",
      "8.21917808219178%\n",
      "9.58904109589041%\n",
      "10.95890410958904%\n",
      "12.32876712328767%\n",
      "13.698630136986301%\n",
      "15.068493150684931%\n",
      "16.43835616438356%\n",
      "17.80821917808219%\n",
      "19.17808219178082%\n",
      "20.54794520547945%\n",
      "21.91780821917808%\n",
      "23.28767123287671%\n",
      "24.65753424657534%\n",
      "26.027397260273972%\n",
      "27.397260273972602%\n",
      "28.767123287671232%\n",
      "30.136986301369863%\n",
      "31.506849315068493%\n",
      "32.87671232876712%\n",
      "34.24657534246575%\n",
      "35.61643835616438%\n",
      "36.986301369863014%\n",
      "38.35616438356164%\n",
      "39.726027397260275%\n",
      "41.0958904109589%\n",
      "42.465753424657535%\n",
      "43.83561643835616%\n",
      "45.20547945205479%\n",
      "46.57534246575342%\n",
      "47.94520547945205%\n",
      "49.31506849315068%\n",
      "50.68493150684932%\n",
      "52.054794520547944%\n",
      "53.42465753424658%\n",
      "54.794520547945204%\n",
      "56.16438356164384%\n",
      "57.534246575342465%\n",
      "58.9041095890411%\n",
      "60.273972602739725%\n",
      "61.64383561643836%\n",
      "63.013698630136986%\n",
      "64.38356164383562%\n",
      "65.75342465753424%\n",
      "67.12328767123287%\n",
      "68.4931506849315%\n",
      "69.86301369863014%\n",
      "71.23287671232876%\n",
      "72.6027397260274%\n",
      "73.97260273972603%\n",
      "75.34246575342466%\n",
      "76.71232876712328%\n",
      "78.08219178082192%\n",
      "79.45205479452055%\n",
      "80.82191780821918%\n",
      "82.1917808219178%\n",
      "83.56164383561644%\n",
      "84.93150684931507%\n",
      "86.3013698630137%\n",
      "87.67123287671232%\n",
      "89.04109589041096%\n",
      "90.41095890410958%\n",
      "91.78082191780823%\n",
      "93.15068493150685%\n",
      "94.52054794520548%\n",
      "95.8904109589041%\n",
      "97.26027397260275%\n",
      "98.63013698630137%\n",
      "[[27513.0, 29153.0], [28867.0, 29913.0], [29292.0, 30847.0], [28903.0, 30904.0], [30069.0, 30886.0], [30498.0, 30677.0], [28554.0, 31327.0], [29275.0, 31293.0], [30704.0, 31483.0], [31309.0, 30773.0], [31189.0, 31584.0], [31287.0, 31506.0], [31966.0, 31680.0], [29574.0, 31734.0], [30981.0, 31873.0], [30821.0, 31887.0], [30073.0, 32281.0], [30753.0, 33406.0], [31090.0, 31859.0], [31373.0, 33549.0], [31515.0, 31943.0], [31429.0, 31968.0], [31501.0, 32867.0], [31717.0, 33368.0], [31842.0, 32115.0], [32191.0, 32573.0], [32037.0, 32897.0], [31761.0, 32910.0], [32214.0, 31667.0], [32216.0, 31708.0], [32226.0, 33077.0], [32248.0, 31465.0], [32314.0, 32468.0], [32539.0, 32010.0], [32827.0, 33211.0], [32902.0, 32333.0], [32537.0, 33437.0], [33278.0, 32812.0], [31606.0, 33522.0], [31900.0, 33445.0], [33132.0, 32825.0], [33214.0, 32967.0], [32850.0, 33354.0], [33560.0, 31978.0], [33420.0, 32118.0], [33343.0, 32724.0], [33161.0, 33061.0], [33441.0, 32056.0], [33582.0, 32547.0], [33216.0, 32976.0], [33523.0, 32862.0], [33631.0, 32604.0], [33156.0, 33682.0], [33204.0, 33393.0], [32017.0, 33818.0], [33573.0, 32739.0], [33839.0, 32601.0], [31948.0, 33832.0], [31846.0, 33852.0], [33200.0, 33490.0], [31812.0, 33945.0], [32360.0, 33873.0], [32941.0, 34713.0], [33076.0, 33954.0], [33048.0, 34447.0], [33333.0, 33600.0], [33303.0, 34170.0], [33184.0, 34533.0], [33453.0, 34671.0], [32915.0, 34935.0], [34139.0, 34698.0], [33501.0, 34754.0], [34217.0, 34166.0], [34860.0, 33846.0], [34386.0, 34587.0], [34630.0, 34489.0], [34846.0, 33968.0], [33748.0, 35172.0], [34141.0, 34662.0], [35032.0, 34391.0], [34868.0, 34593.0], [35314.0, 34346.0], [33775.0, 34879.0], [34513.0, 34689.0], [35560.0, 33390.0], [33949.0, 34708.0], [35343.0, 33452.0], [35438.0, 34478.0], [33796.0, 34858.0], [34164.0, 34927.0], [33936.0, 35020.0], [34932.0, 34650.0], [34209.0, 35085.0], [32656.0, 35173.0], [32653.0, 35427.0], [34391.0, 35282.0], [34720.0, 35225.0], [33932.0, 35393.0], [34771.0, 34757.0], [34240.0, 35394.0], [34800.0, 35293.0], [34955.0, 35122.0], [34241.0, 35588.0], [34475.0, 35385.0], [34217.0, 35837.0], [34267.0, 35631.0], [34824.0, 35785.0], [35015.0, 34871.0], [34419.0, 35832.0], [34845.0, 35556.0], [33874.0, 35997.0], [33992.0, 36142.0], [34510.0, 35849.0], [34633.0, 35791.0], [35477.0, 35087.0], [35000.0, 35144.0], [34857.0, 35539.0], [35712.0, 34389.0], [35513.0, 34529.0], [34913.0, 35160.0], [35916.0, 34930.0], [35934.0, 35733.0], [36354.0, 35141.0], [35934.0, 35733.0], [35880.0, 35882.0], [35476.0, 35929.0], [34593.0, 36087.0], [34972.0, 35981.0], [34762.0, 36121.0], [35302.0, 36051.0], [36587.0, 34732.0]]\n"
     ]
    },
    {
     "data": {
      "image/png": "[encoded data removed]",
      "text/plain": [
       "<Figure size 432x288 with 1 Axes>"
      ]
     },
     "metadata": {
      "needs_background": "light"
     },
     "output_type": "display_data"
    },
    {
     "name": "stdout",
     "output_type": "stream",
     "text": [
      "taille du front efficace\n",
      "(131, 100)\n",
      "0.0%\n",
      "0.8333333333333334%\n",
      "1.6666666666666667%\n",
      "2.5%\n",
      "3.3333333333333335%\n",
      "4.166666666666666%\n",
      "5.0%\n",
      "5.833333333333333%\n",
      "6.666666666666667%\n",
      "7.5%\n",
      "8.333333333333332%\n",
      "9.166666666666666%\n",
      "10.0%\n",
      "10.833333333333334%\n",
      "11.666666666666666%\n",
      "12.5%\n",
      "13.333333333333334%\n",
      "14.166666666666666%\n",
      "15.0%\n",
      "15.833333333333332%\n",
      "16.666666666666664%\n",
      "17.5%\n",
      "18.333333333333332%\n",
      "19.166666666666668%\n",
      "20.0%\n",
      "20.833333333333336%\n",
      "21.666666666666668%\n",
      "22.5%\n",
      "23.333333333333332%\n",
      "24.166666666666668%\n",
      "25.0%\n",
      "25.833333333333336%\n",
      "26.666666666666668%\n",
      "27.500000000000004%\n",
      "28.333333333333332%\n",
      "29.166666666666668%\n",
      "30.0%\n",
      "30.833333333333336%\n",
      "31.666666666666664%\n",
      "32.5%\n",
      "33.33333333333333%\n",
      "34.166666666666664%\n",
      "35.0%\n",
      "35.833333333333336%\n",
      "36.666666666666664%\n",
      "37.5%\n",
      "38.333333333333336%\n",
      "39.166666666666664%\n",
      "40.0%\n",
      "40.833333333333336%\n",
      "41.66666666666667%\n",
      "42.5%\n",
      "43.333333333333336%\n",
      "44.166666666666664%\n",
      "45.0%\n",
      "45.83333333333333%\n",
      "46.666666666666664%\n",
      "47.5%\n",
      "48.333333333333336%\n",
      "49.166666666666664%\n",
      "50.0%\n",
      "50.83333333333333%\n",
      "51.66666666666667%\n",
      "52.5%\n",
      "53.333333333333336%\n",
      "54.166666666666664%\n",
      "55.00000000000001%\n",
      "55.833333333333336%\n",
      "56.666666666666664%\n",
      "57.49999999999999%\n",
      "58.333333333333336%\n",
      "59.166666666666664%\n",
      "60.0%\n",
      "60.83333333333333%\n",
      "61.66666666666667%\n",
      "62.5%\n",
      "63.33333333333333%\n",
      "64.16666666666667%\n",
      "65.0%\n",
      "65.83333333333333%\n",
      "66.66666666666666%\n",
      "67.5%\n",
      "68.33333333333333%\n",
      "69.16666666666667%\n",
      "70.0%\n",
      "70.83333333333334%\n",
      "71.66666666666667%\n",
      "72.5%\n",
      "73.33333333333333%\n",
      "74.16666666666667%\n",
      "75.0%\n",
      "75.83333333333333%\n",
      "76.66666666666667%\n",
      "77.5%\n",
      "78.33333333333333%\n",
      "79.16666666666666%\n",
      "80.0%\n",
      "80.83333333333333%\n",
      "81.66666666666667%\n",
      "82.5%\n",
      "83.33333333333334%\n",
      "84.16666666666667%\n",
      "85.0%\n",
      "85.83333333333333%\n",
      "86.66666666666667%\n",
      "87.5%\n",
      "88.33333333333333%\n",
      "89.16666666666667%\n",
      "90.0%\n",
      "90.83333333333333%\n",
      "91.66666666666666%\n",
      "92.5%\n",
      "93.33333333333333%\n",
      "94.16666666666667%\n",
      "95.0%\n",
      "95.83333333333334%\n",
      "96.66666666666667%\n",
      "97.5%\n",
      "98.33333333333333%\n",
      "99.16666666666667%\n",
      "[[27513.0, 29153.0], [28867.0, 29913.0], [29292.0, 30847.0], [28903.0, 30904.0], [30069.0, 30886.0], [30498.0, 30677.0], [28554.0, 31327.0], [29275.0, 31293.0], [30704.0, 31483.0], [31309.0, 30773.0], [31189.0, 31584.0], [31287.0, 31506.0], [31966.0, 31680.0], [29574.0, 31734.0], [30981.0, 31873.0], [30821.0, 31887.0], [30073.0, 32281.0], [30753.0, 33406.0], [31090.0, 31859.0], [31373.0, 33549.0], [31515.0, 31943.0], [31429.0, 31968.0], [31501.0, 32867.0], [31717.0, 33368.0], [31842.0, 32115.0], [32191.0, 32573.0], [32037.0, 32897.0], [31761.0, 32910.0], [32214.0, 31667.0], [32216.0, 31708.0], [32226.0, 33077.0], [32248.0, 31465.0], [32314.0, 32468.0], [32539.0, 32010.0], [32827.0, 33211.0], [32902.0, 32333.0], [32537.0, 33437.0], [33278.0, 32812.0], [31606.0, 33522.0], [31900.0, 33445.0], [33132.0, 32825.0], [33214.0, 32967.0], [32850.0, 33354.0], [33560.0, 31978.0], [33420.0, 32118.0], [33343.0, 32724.0], [33161.0, 33061.0], [33441.0, 32056.0], [33582.0, 32547.0], [33216.0, 32976.0], [33523.0, 32862.0], [33631.0, 32604.0], [33156.0, 33682.0], [33204.0, 33393.0], [32017.0, 33818.0], [33573.0, 32739.0], [33839.0, 32601.0], [31948.0, 33832.0], [31846.0, 33852.0], [33200.0, 33490.0], [31812.0, 33945.0], [32360.0, 33873.0], [32941.0, 34713.0], [33076.0, 33954.0], [33048.0, 34447.0], [33333.0, 33600.0], [33303.0, 34170.0], [33184.0, 34533.0], [33453.0, 34671.0], [32915.0, 34935.0], [34139.0, 34698.0], [33501.0, 34754.0], [34217.0, 34166.0], [34860.0, 33846.0], [34386.0, 34587.0], [34630.0, 34489.0], [34846.0, 33968.0], [33748.0, 35172.0], [34141.0, 34662.0], [35032.0, 34391.0], [34868.0, 34593.0], [35314.0, 34346.0], [33775.0, 34879.0], [34513.0, 34689.0], [35560.0, 33390.0], [33949.0, 34708.0], [35343.0, 33452.0], [35438.0, 34478.0], [33796.0, 34858.0], [34164.0, 34927.0], [33936.0, 35020.0], [34932.0, 34650.0], [34209.0, 35085.0], [32656.0, 35173.0], [32653.0, 35427.0], [34391.0, 35282.0], [34720.0, 35225.0], [33932.0, 35393.0], [34771.0, 34757.0], [34240.0, 35394.0], [34800.0, 35293.0], [34955.0, 35122.0], [34241.0, 35588.0], [34475.0, 35385.0], [34217.0, 35837.0], [34267.0, 35631.0], [34824.0, 35785.0], [35015.0, 34871.0], [34419.0, 35832.0], [34845.0, 35556.0], [33874.0, 35997.0], [33992.0, 36142.0], [34510.0, 35849.0], [34633.0, 35791.0], [35477.0, 35087.0], [35000.0, 35144.0], [34857.0, 35539.0], [35712.0, 34389.0], [35513.0, 34529.0], [34913.0, 35160.0], [35916.0, 34930.0], [35934.0, 35733.0], [36354.0, 35141.0], [35934.0, 35733.0], [35880.0, 35882.0], [35476.0, 35929.0], [34593.0, 36087.0], [34972.0, 35981.0], [34762.0, 36121.0], [35302.0, 36051.0], [36587.0, 34732.0], [35396.0, 35958.0], [33975.0, 36215.0], [34235.0, 36158.0], [34424.0, 36361.0], [35244.0, 36512.0], [35288.0, 36350.0], [36057.0, 36020.0], [35476.0, 36284.0], [34616.0, 36525.0], [35715.0, 36349.0], [36066.0, 36192.0], [33709.0, 36647.0], [34598.0, 36647.0], [35076.0, 36530.0], [35481.0, 36398.0], [34314.0, 37150.0], [35113.0, 37071.0], [35491.0, 36443.0], [35622.0, 36615.0], [35299.0, 36804.0], [35709.0, 36445.0], [36066.0, 36192.0], [36194.0, 35405.0], [36233.0, 35616.0], [36137.0, 35729.0], [36149.0, 35870.0], [36233.0, 35616.0], [36496.0, 35863.0], [36575.0, 35940.0], [36627.0, 35294.0], [36587.0, 36081.0], [37078.0, 35883.0], [35415.0, 36804.0], [35661.0, 37140.0], [34897.0, 37310.0], [36099.0, 37351.0], [36375.0, 36561.0]]\n"
     ]
    },
    {
     "data": {
      "image/png": "[encoded data removed]",
      "text/plain": [
       "<Figure size 432x288 with 1 Axes>"
      ]
     },
     "metadata": {
      "needs_background": "light"
     },
     "output_type": "display_data"
    },
    {
     "name": "stdout",
     "output_type": "stream",
     "text": [
      "taille du front efficace\n",
      "(168, 100)\n",
      "0.0%\n",
      "0.6535947712418301%\n",
      "1.3071895424836601%\n",
      "1.9607843137254901%\n",
      "2.6143790849673203%\n",
      "3.2679738562091507%\n",
      "3.9215686274509802%\n",
      "4.57516339869281%\n",
      "5.228758169934641%\n",
      "5.88235294117647%\n",
      "6.535947712418301%\n",
      "7.18954248366013%\n",
      "7.8431372549019605%\n",
      "8.49673202614379%\n",
      "9.15032679738562%\n",
      "9.803921568627452%\n",
      "10.457516339869281%\n",
      "11.11111111111111%\n",
      "11.76470588235294%\n",
      "12.418300653594772%\n",
      "13.071895424836603%\n",
      "13.725490196078432%\n",
      "14.37908496732026%\n",
      "15.032679738562091%\n",
      "15.686274509803921%\n"
     ]
    }
   ],
   "source": [
    "localParetoSearch1(objects, weight, nd_points)"
   ]
  },
  {
   "cell_type": "code",
   "execution_count": null,
   "metadata": {},
   "outputs": [],
   "source": []
  }
 ],
 "metadata": {
  "kernelspec": {
   "display_name": "Python 3 (ipykernel)",
   "language": "python",
   "name": "python3"
  },
  "language_info": {
   "codemirror_mode": {
    "name": "ipython",
    "version": 3
   },
   "file_extension": ".py",
   "mimetype": "text/x-python",
   "name": "python",
   "nbconvert_exporter": "python",
   "pygments_lexer": "ipython3",
   "version": "3.9.9"
  }
 },
 "nbformat": 4,
 "nbformat_minor": 2
}
